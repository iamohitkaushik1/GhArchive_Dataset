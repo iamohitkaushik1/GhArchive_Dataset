{
 "cells": [
  {
   "cell_type": "markdown",
   "id": "b37a2325-85cd-478d-a5d6-0ba2daa30324",
   "metadata": {},
   "source": [
    "# Downloading Data"
   ]
  },
  {
   "cell_type": "code",
   "execution_count": null,
   "id": "0e6388e4-621d-4e09-9bdd-bb4a0a323c90",
   "metadata": {},
   "outputs": [],
   "source": [
    "import requests\n",
    "import os\n",
    "from requests.exceptions import ConnectionError, Timeout\n",
    "\n",
    "import time  # Import the time module\n",
    "\n",
    "# Define base URL\n",
    "base_url = \"https://data.gharchive.org/\"\n",
    "MAX_RETRIES = 10  # Define the maximum number of retries\n",
    "RETRY_DELAY = 5  # Define delay (seconds) between retries\n",
    "\n",
    "def download_day(day, month):\n",
    "    \"\"\"Downloads data for a specific day in a month with retry logic and file checking.\"\"\"\n",
    "    date = f\"2023-{month:02d}-{day:02d}\"  # Format date with leading zeros (YYYY-MM-DD)\n",
    "\n",
    "    # Ensure directory exists (optional)\n",
    "    download_dir = f\"D:/GhArchive/July_2023/files\"  # Build directory path (YYYY-MM)\n",
    "    os.makedirs(download_dir, exist_ok=True)  # Create directory structure with exist_ok\n",
    "\n",
    "    # Get list of existing files (optional optimization)\n",
    "    existing_files = [f for f in os.listdir(download_dir) if f.startswith(f\"gharchive-{date}-\")]\n",
    "\n",
    "    # Loop through all hours (00 to 23)\n",
    "    for hour in range(24):\n",
    "        if hour == 0 and len(existing_files) > 0:  # Skip hour 0 if any files exist for the day\n",
    "            continue  # Move to next hour\n",
    "\n",
    "        url = f\"{base_url}{date}-{hour}.json.gz\"\n",
    "\n",
    "        # Create filename with padding\n",
    "        filename = f\"gharchive-{date}-{hour:02d}.json.gz\"\n",
    "\n",
    "        if filename in existing_files:  # Check if file already exists\n",
    "            print(f\"Skipping download: {filename} (already exists)\")\n",
    "            continue\n",
    "\n",
    "        # Download logic (unchanged)\n",
    "        for attempt in range(1, MAX_RETRIES + 1):\n",
    "            try:\n",
    "                response = requests.get(url, stream=True, timeout=10)  # Set timeout value (seconds)\n",
    "                response.raise_for_status()  # Raise an exception for non-200 status codes\n",
    "\n",
    "                filepath = os.path.join(download_dir, filename)\n",
    "                with open(filepath, 'wb') as f:\n",
    "                    for chunk in response.iter_content(1024):\n",
    "                        f.write(chunk)\n",
    "                    print(f\"Downloaded: {filename}\")\n",
    "                break  # Exit the loop on successful download\n",
    "\n",
    "            except (ConnectionError, Timeout) as e:\n",
    "                print(f\"Error downloading {url} (attempt {attempt}/{MAX_RETRIES}): {e}\")\n",
    "                if attempt == MAX_RETRIES:\n",
    "                    print(f\"Download failed for {url} after {MAX_RETRIES} attempts.\")\n",
    "                else:\n",
    "                    # Wait before retrying\n",
    "                    delay = RETRY_DELAY * attempt  # Exponential backoff\n",
    "                    print(f\"Retrying in {delay} seconds...\")\n",
    "                    time.sleep(delay)  # Use the imported time module\n",
    "\n",
    "# Download data for July 2023 (assuming partial download)\n",
    "for day in range(1, 32):  # July has 31 days\n",
    "    download_day(day, month=7)\n",
    "\n",
    "print(\"Download complete!\")"
   ]
  }
 ],
 "metadata": {
  "kernelspec": {
   "display_name": "Python 3 (ipykernel)",
   "language": "python",
   "name": "python3"
  },
  "language_info": {
   "codemirror_mode": {
    "name": "ipython",
    "version": 3
   },
   "file_extension": ".py",
   "mimetype": "text/x-python",
   "name": "python",
   "nbconvert_exporter": "python",
   "pygments_lexer": "ipython3",
   "version": "3.10.11"
  }
 },
 "nbformat": 4,
 "nbformat_minor": 5
}
