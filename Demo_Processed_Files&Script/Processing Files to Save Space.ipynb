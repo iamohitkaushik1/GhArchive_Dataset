{
 "cells": [
  {
   "cell_type": "markdown",
   "id": "1c6ce6d2-f310-419f-8e3a-d1adaf68d24e",
   "metadata": {},
   "source": [
    "# Processing Files as Parquet Files"
   ]
  },
  {
   "cell_type": "code",
   "execution_count": null,
   "id": "3e25fcf9-91ed-4d63-bcd4-4489ccae75b0",
   "metadata": {},
   "outputs": [
    {
     "name": "stdout",
     "output_type": "stream",
     "text": [
      "Skipping file gharchive-2023-01-01-00.json.gz as it has already been processed.\n",
      "Skipping file gharchive-2023-01-01-01.json.gz as it has already been processed.\n",
      "Skipping file gharchive-2023-01-01-02.json.gz as it has already been processed.\n",
      "Skipping file gharchive-2023-01-01-03.json.gz as it has already been processed.\n",
      "Skipping file gharchive-2023-01-01-04.json.gz as it has already been processed.\n",
      "Skipping file gharchive-2023-01-01-05.json.gz as it has already been processed.\n",
      "Skipping file gharchive-2023-01-01-06.json.gz as it has already been processed.\n",
      "Skipping file gharchive-2023-01-01-07.json.gz as it has already been processed.\n",
      "Skipping file gharchive-2023-01-01-08.json.gz as it has already been processed.\n",
      "Skipping file gharchive-2023-01-01-09.json.gz as it has already been processed.\n",
      "Skipping file gharchive-2023-01-01-10.json.gz as it has already been processed.\n",
      "Skipping file gharchive-2023-01-01-11.json.gz as it has already been processed.\n",
      "Skipping file gharchive-2023-01-01-12.json.gz as it has already been processed.\n",
      "Skipping file gharchive-2023-01-01-13.json.gz as it has already been processed.\n",
      "Skipping file gharchive-2023-01-01-14.json.gz as it has already been processed.\n",
      "Skipping file gharchive-2023-01-01-15.json.gz as it has already been processed.\n",
      "Skipping file gharchive-2023-01-01-16.json.gz as it has already been processed.\n",
      "Processing file: gharchive-2023-01-01-17.json.gz\n",
      "Processing file: gharchive-2023-01-01-18.json.gz\n",
      "Processing file: gharchive-2023-01-01-19.json.gz\n",
      "Processing file: gharchive-2023-01-01-20.json.gz\n",
      "Processing file: gharchive-2023-01-01-21.json.gz\n",
      "Processing file: gharchive-2023-01-01-22.json.gz\n",
      "Processing file: gharchive-2023-01-01-23.json.gz\n",
      "Processing file: gharchive-2023-01-02-00.json.gz\n"
     ]
    }
   ],
   "source": [
    "import os\n",
    "import pandas as pd\n",
    "import gzip\n",
    "\n",
    "# Function to read a large JSON file in chunks and yield DataFrames\n",
    "def read_large_json(file_path, chunksize=10000):\n",
    "    with gzip.open(file_path, \"rb\") as file:\n",
    "        reader = pd.read_json(file, lines=True, chunksize=chunksize)\n",
    "        for chunk in reader:\n",
    "            yield chunk\n",
    "\n",
    "# Process each file in the folder\n",
    "folder_path = \"D:/GhArchive/January_2023/files\"\n",
    "parquet_folder = \"D:/GhArchive/January_2023/parquet_files\"\n",
    "\n",
    "if not os.path.exists(parquet_folder):\n",
    "    os.makedirs(parquet_folder)\n",
    "\n",
    "for file_name in os.listdir(folder_path):\n",
    "    if file_name.endswith(\".json.gz\"):\n",
    "        file_path = os.path.join(folder_path, file_name)\n",
    "\n",
    "        parquet_file_path = os.path.join(parquet_folder, f\"{os.path.splitext(file_name)[0]}.parquet\")\n",
    "\n",
    "        # Check if the corresponding parquet file already exists\n",
    "        if os.path.exists(parquet_file_path):\n",
    "            print(f\"Skipping file {file_name} as it has already been processed.\")\n",
    "            continue\n",
    "\n",
    "        print(f\"Processing file: {file_name}\")\n",
    "\n",
    "        data = pd.DataFrame()\n",
    "        for chunk in read_large_json(file_path):\n",
    "            data = pd.concat([data, chunk], ignore_index=True)\n",
    "\n",
    "        # Save the data as a .parquet file\n",
    "        data.to_parquet(parquet_file_path)"
   ]
  },
  {
   "cell_type": "markdown",
   "id": "4e2c538c-3304-4fac-ad8c-e1efc771f38e",
   "metadata": {},
   "source": [
    "#### To save disk space, we directly process the file .gz into parquet file without extracting it as .json file"
   ]
  }
 ],
 "metadata": {
  "kernelspec": {
   "display_name": "Python 3 (ipykernel)",
   "language": "python",
   "name": "python3"
  },
  "language_info": {
   "codemirror_mode": {
    "name": "ipython",
    "version": 3
   },
   "file_extension": ".py",
   "mimetype": "text/x-python",
   "name": "python",
   "nbconvert_exporter": "python",
   "pygments_lexer": "ipython3",
   "version": "3.10.11"
  }
 },
 "nbformat": 4,
 "nbformat_minor": 5
}
